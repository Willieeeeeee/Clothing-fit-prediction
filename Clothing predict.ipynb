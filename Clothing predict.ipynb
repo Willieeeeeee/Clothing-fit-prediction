{
 "cells": [
  {
   "cell_type": "code",
   "execution_count": 1,
   "id": "59b90a8d",
   "metadata": {},
   "outputs": [],
   "source": [
    "import gzip\n",
    "import json\n",
    "import time\n",
    "import pandas as pd\n",
    "import numpy as np\n",
    "from sklearn.linear_model import LogisticRegression\n",
    "from sklearn.preprocessing import OneHotEncoder\n",
    "from sklearn.preprocessing import StandardScaler\n",
    "from collections import defaultdict\n",
    "import string\n",
    "import scipy\n",
    "from sklearn.tree import DecisionTreeClassifier"
   ]
  },
  {
   "cell_type": "code",
   "execution_count": 2,
   "id": "a1a0da83",
   "metadata": {},
   "outputs": [],
   "source": [
    "def parse(path):\n",
    "  g = gzip.open(path, 'r')\n",
    "  for l in g:\n",
    "    yield json.loads(l)"
   ]
  },
  {
   "cell_type": "code",
   "execution_count": 3,
   "id": "4d178a56",
   "metadata": {},
   "outputs": [
    {
     "name": "stdout",
     "output_type": "stream",
     "text": [
      "CPU times: total: 1.12 s\n",
      "Wall time: 2.2 s\n"
     ]
    }
   ],
   "source": [
    "%%time\n",
    "data = []\n",
    "\n",
    "for l in parse('renttherunway_final_data.json.gz'):\n",
    "    data.append(l)"
   ]
  },
  {
   "cell_type": "markdown",
   "id": "ed0b95af",
   "metadata": {},
   "source": [
    "Field Description:\n",
    "\n",
    "item_id: unique product id\n",
    "\n",
    "weight: weight measurement of customer\n",
    "\n",
    "rented for: purpose clothing was rented for\n",
    "\n",
    "body type: body type of customer\n",
    "\n",
    "review_text: review given by the customer\n",
    "\n",
    "review_summary: summary of the review\n",
    "\n",
    "size: the standardized size of the product\n",
    "\n",
    "rating: rating for the product\n",
    "\n",
    "age: age of the customer\n",
    "\n",
    "category: the category of the product\n",
    "\n",
    "bust size: bust measurement of customer\n",
    "\n",
    "height: height of the customer\n",
    "\n",
    "fit: fit feedback\n",
    "\n",
    "user_id: a unique id for the customer\n",
    "\n",
    "review_date: date when the review was written"
   ]
  },
  {
   "cell_type": "markdown",
   "id": "425f2a81",
   "metadata": {},
   "source": [
    "# Exploratory Analysis"
   ]
  },
  {
   "cell_type": "code",
   "execution_count": 4,
   "id": "80f37bb2",
   "metadata": {},
   "outputs": [],
   "source": [
    "df = pd.DataFrame(data)"
   ]
  },
  {
   "cell_type": "code",
   "execution_count": 5,
   "id": "b6238f78",
   "metadata": {},
   "outputs": [],
   "source": [
    "clean_df = df.copy()\n",
    "\n",
    "## change weight to number \n",
    "clean_df['weight'] = clean_df.weight.str[:-3].astype(float)\n",
    "\n",
    "## change rating to number\n",
    "clean_df['rating'] = clean_df.rating.astype(float)\n",
    "\n",
    "## change height to centimeters\n",
    "clean_df['height'] = clean_df.height.str.strip('\"').str.split('\\'').apply(lambda x: (eval(x[0]) * 12 + eval(x[1])) * 2.54 if type(x) == list else x)\n",
    "\n",
    "## change age\n",
    "clean_df['age'] = clean_df.age.astype(float)\n",
    "\n",
    "## change date\n",
    "clean_df['review_date'] = clean_df['review_date'].astype('datetime64')\n",
    "\n",
    "## change bust size\n",
    "clean_df['bust_num'] = clean_df['bust size'].str[:2].astype('float')\n",
    "clean_df['bust_letter'] = clean_df['bust size'].str[-1]\n",
    "clean_df = clean_df.drop(columns='bust size')\n"
   ]
  },
  {
   "cell_type": "code",
   "execution_count": 6,
   "id": "20165af8",
   "metadata": {},
   "outputs": [
    {
     "data": {
      "text/html": [
       "<div>\n",
       "<style scoped>\n",
       "    .dataframe tbody tr th:only-of-type {\n",
       "        vertical-align: middle;\n",
       "    }\n",
       "\n",
       "    .dataframe tbody tr th {\n",
       "        vertical-align: top;\n",
       "    }\n",
       "\n",
       "    .dataframe thead th {\n",
       "        text-align: right;\n",
       "    }\n",
       "</style>\n",
       "<table border=\"1\" class=\"dataframe\">\n",
       "  <thead>\n",
       "    <tr style=\"text-align: right;\">\n",
       "      <th></th>\n",
       "      <th>fit</th>\n",
       "      <th>user_id</th>\n",
       "      <th>item_id</th>\n",
       "      <th>weight</th>\n",
       "      <th>rating</th>\n",
       "      <th>rented for</th>\n",
       "      <th>review_text</th>\n",
       "      <th>body type</th>\n",
       "      <th>review_summary</th>\n",
       "      <th>category</th>\n",
       "      <th>height</th>\n",
       "      <th>size</th>\n",
       "      <th>age</th>\n",
       "      <th>review_date</th>\n",
       "      <th>bust_num</th>\n",
       "      <th>bust_letter</th>\n",
       "    </tr>\n",
       "  </thead>\n",
       "  <tbody>\n",
       "    <tr>\n",
       "      <th>0</th>\n",
       "      <td>fit</td>\n",
       "      <td>420272</td>\n",
       "      <td>2260466</td>\n",
       "      <td>137.0</td>\n",
       "      <td>10.0</td>\n",
       "      <td>vacation</td>\n",
       "      <td>An adorable romper! Belt and zipper were a lit...</td>\n",
       "      <td>hourglass</td>\n",
       "      <td>So many compliments!</td>\n",
       "      <td>romper</td>\n",
       "      <td>172.72</td>\n",
       "      <td>14</td>\n",
       "      <td>28.0</td>\n",
       "      <td>2016-04-20</td>\n",
       "      <td>34.0</td>\n",
       "      <td>d</td>\n",
       "    </tr>\n",
       "    <tr>\n",
       "      <th>1</th>\n",
       "      <td>fit</td>\n",
       "      <td>273551</td>\n",
       "      <td>153475</td>\n",
       "      <td>132.0</td>\n",
       "      <td>10.0</td>\n",
       "      <td>other</td>\n",
       "      <td>I rented this dress for a photo shoot. The the...</td>\n",
       "      <td>straight &amp; narrow</td>\n",
       "      <td>I felt so glamourous!!!</td>\n",
       "      <td>gown</td>\n",
       "      <td>167.64</td>\n",
       "      <td>12</td>\n",
       "      <td>36.0</td>\n",
       "      <td>2013-06-18</td>\n",
       "      <td>34.0</td>\n",
       "      <td>b</td>\n",
       "    </tr>\n",
       "    <tr>\n",
       "      <th>2</th>\n",
       "      <td>fit</td>\n",
       "      <td>360448</td>\n",
       "      <td>1063761</td>\n",
       "      <td>NaN</td>\n",
       "      <td>10.0</td>\n",
       "      <td>party</td>\n",
       "      <td>This hugged in all the right places! It was a ...</td>\n",
       "      <td>NaN</td>\n",
       "      <td>It was a great time to celebrate the (almost) ...</td>\n",
       "      <td>sheath</td>\n",
       "      <td>162.56</td>\n",
       "      <td>4</td>\n",
       "      <td>116.0</td>\n",
       "      <td>2015-12-14</td>\n",
       "      <td>NaN</td>\n",
       "      <td>NaN</td>\n",
       "    </tr>\n",
       "    <tr>\n",
       "      <th>3</th>\n",
       "      <td>fit</td>\n",
       "      <td>909926</td>\n",
       "      <td>126335</td>\n",
       "      <td>135.0</td>\n",
       "      <td>8.0</td>\n",
       "      <td>formal affair</td>\n",
       "      <td>I rented this for my company's black tie award...</td>\n",
       "      <td>pear</td>\n",
       "      <td>Dress arrived on time and in perfect condition.</td>\n",
       "      <td>dress</td>\n",
       "      <td>165.10</td>\n",
       "      <td>8</td>\n",
       "      <td>34.0</td>\n",
       "      <td>2014-02-12</td>\n",
       "      <td>34.0</td>\n",
       "      <td>c</td>\n",
       "    </tr>\n",
       "    <tr>\n",
       "      <th>4</th>\n",
       "      <td>fit</td>\n",
       "      <td>151944</td>\n",
       "      <td>616682</td>\n",
       "      <td>145.0</td>\n",
       "      <td>10.0</td>\n",
       "      <td>wedding</td>\n",
       "      <td>I have always been petite in my upper body and...</td>\n",
       "      <td>athletic</td>\n",
       "      <td>Was in love with this dress !!!</td>\n",
       "      <td>gown</td>\n",
       "      <td>175.26</td>\n",
       "      <td>12</td>\n",
       "      <td>27.0</td>\n",
       "      <td>2016-09-26</td>\n",
       "      <td>34.0</td>\n",
       "      <td>b</td>\n",
       "    </tr>\n",
       "  </tbody>\n",
       "</table>\n",
       "</div>"
      ],
      "text/plain": [
       "   fit user_id  item_id  weight  rating     rented for  \\\n",
       "0  fit  420272  2260466   137.0    10.0       vacation   \n",
       "1  fit  273551   153475   132.0    10.0          other   \n",
       "2  fit  360448  1063761     NaN    10.0          party   \n",
       "3  fit  909926   126335   135.0     8.0  formal affair   \n",
       "4  fit  151944   616682   145.0    10.0        wedding   \n",
       "\n",
       "                                         review_text          body type  \\\n",
       "0  An adorable romper! Belt and zipper were a lit...          hourglass   \n",
       "1  I rented this dress for a photo shoot. The the...  straight & narrow   \n",
       "2  This hugged in all the right places! It was a ...                NaN   \n",
       "3  I rented this for my company's black tie award...               pear   \n",
       "4  I have always been petite in my upper body and...           athletic   \n",
       "\n",
       "                                      review_summary category  height  size  \\\n",
       "0                               So many compliments!   romper  172.72    14   \n",
       "1                            I felt so glamourous!!!     gown  167.64    12   \n",
       "2  It was a great time to celebrate the (almost) ...   sheath  162.56     4   \n",
       "3   Dress arrived on time and in perfect condition.     dress  165.10     8   \n",
       "4                    Was in love with this dress !!!     gown  175.26    12   \n",
       "\n",
       "     age review_date  bust_num bust_letter  \n",
       "0   28.0  2016-04-20      34.0           d  \n",
       "1   36.0  2013-06-18      34.0           b  \n",
       "2  116.0  2015-12-14       NaN         NaN  \n",
       "3   34.0  2014-02-12      34.0           c  \n",
       "4   27.0  2016-09-26      34.0           b  "
      ]
     },
     "execution_count": 6,
     "metadata": {},
     "output_type": "execute_result"
    }
   ],
   "source": [
    "clean_df.head()"
   ]
  },
  {
   "cell_type": "code",
   "execution_count": 7,
   "id": "efef55df",
   "metadata": {},
   "outputs": [
    {
     "data": {
      "text/plain": [
       "fit      142058\n",
       "small     25779\n",
       "large     24707\n",
       "Name: fit, dtype: int64"
      ]
     },
     "execution_count": 7,
     "metadata": {},
     "output_type": "execute_result"
    }
   ],
   "source": [
    "## fit value count\n",
    "df.fit.value_counts()"
   ]
  },
  {
   "cell_type": "code",
   "execution_count": 8,
   "id": "4211473f",
   "metadata": {},
   "outputs": [
    {
     "name": "stderr",
     "output_type": "stream",
     "text": [
      "C:\\Users\\willi\\AppData\\Local\\Temp\\ipykernel_26232\\1462026794.py:1: FutureWarning: The default value of numeric_only in DataFrameGroupBy.mean is deprecated. In a future version, numeric_only will default to False. Either specify numeric_only or select only columns which should be valid for the function.\n",
      "  clean_df.groupby('fit').mean()\n"
     ]
    },
    {
     "data": {
      "text/html": [
       "<div>\n",
       "<style scoped>\n",
       "    .dataframe tbody tr th:only-of-type {\n",
       "        vertical-align: middle;\n",
       "    }\n",
       "\n",
       "    .dataframe tbody tr th {\n",
       "        vertical-align: top;\n",
       "    }\n",
       "\n",
       "    .dataframe thead th {\n",
       "        text-align: right;\n",
       "    }\n",
       "</style>\n",
       "<table border=\"1\" class=\"dataframe\">\n",
       "  <thead>\n",
       "    <tr style=\"text-align: right;\">\n",
       "      <th></th>\n",
       "      <th>weight</th>\n",
       "      <th>rating</th>\n",
       "      <th>height</th>\n",
       "      <th>size</th>\n",
       "      <th>age</th>\n",
       "      <th>bust_num</th>\n",
       "    </tr>\n",
       "    <tr>\n",
       "      <th>fit</th>\n",
       "      <th></th>\n",
       "      <th></th>\n",
       "      <th></th>\n",
       "      <th></th>\n",
       "      <th></th>\n",
       "      <th></th>\n",
       "    </tr>\n",
       "  </thead>\n",
       "  <tbody>\n",
       "    <tr>\n",
       "      <th>fit</th>\n",
       "      <td>137.284831</td>\n",
       "      <td>9.308469</td>\n",
       "      <td>165.912512</td>\n",
       "      <td>12.097249</td>\n",
       "      <td>33.891271</td>\n",
       "      <td>34.198727</td>\n",
       "    </tr>\n",
       "    <tr>\n",
       "      <th>large</th>\n",
       "      <td>136.847149</td>\n",
       "      <td>8.551942</td>\n",
       "      <td>165.612294</td>\n",
       "      <td>10.863480</td>\n",
       "      <td>33.565631</td>\n",
       "      <td>34.156102</td>\n",
       "    </tr>\n",
       "    <tr>\n",
       "      <th>small</th>\n",
       "      <td>138.498468</td>\n",
       "      <td>8.419615</td>\n",
       "      <td>166.024320</td>\n",
       "      <td>14.384577</td>\n",
       "      <td>34.052262</td>\n",
       "      <td>34.258751</td>\n",
       "    </tr>\n",
       "  </tbody>\n",
       "</table>\n",
       "</div>"
      ],
      "text/plain": [
       "           weight    rating      height       size        age   bust_num\n",
       "fit                                                                     \n",
       "fit    137.284831  9.308469  165.912512  12.097249  33.891271  34.198727\n",
       "large  136.847149  8.551942  165.612294  10.863480  33.565631  34.156102\n",
       "small  138.498468  8.419615  166.024320  14.384577  34.052262  34.258751"
      ]
     },
     "execution_count": 8,
     "metadata": {},
     "output_type": "execute_result"
    }
   ],
   "source": [
    "clean_df.groupby('fit').mean()"
   ]
  },
  {
   "cell_type": "code",
   "execution_count": 9,
   "id": "6c9876f9",
   "metadata": {},
   "outputs": [
    {
     "data": {
      "text/plain": [
       "<AxesSubplot: xlabel='rented for'>"
      ]
     },
     "execution_count": 9,
     "metadata": {},
     "output_type": "execute_result"
    },
    {
     "data": {
      "image/png": "[encoded data removed]",
      "text/plain": [
       "<Figure size 640x480 with 1 Axes>"
      ]
     },
     "metadata": {},
     "output_type": "display_data"
    }
   ],
   "source": [
    "clean_df.groupby('fit')['rented for'].value_counts(normalize = True).unstack().transpose().plot.bar()"
   ]
  },
  {
   "cell_type": "code",
   "execution_count": 10,
   "id": "64d0ef51",
   "metadata": {},
   "outputs": [
    {
     "data": {
      "text/plain": [
       "<AxesSubplot: xlabel='body type'>"
      ]
     },
     "execution_count": 10,
     "metadata": {},
     "output_type": "execute_result"
    },
    {
     "data": {
      "image/png": "[encoded data removed]",
      "text/plain": [
       "<Figure size 640x480 with 1 Axes>"
      ]
     },
     "metadata": {},
     "output_type": "display_data"
    }
   ],
   "source": [
    "clean_df.groupby('fit')['body type'].value_counts(normalize = True).unstack().transpose().plot.bar()"
   ]
  },
  {
   "cell_type": "code",
   "execution_count": 11,
   "id": "4f191dc7",
   "metadata": {},
   "outputs": [
    {
     "data": {
      "text/plain": [
       "<AxesSubplot: xlabel='category'>"
      ]
     },
     "execution_count": 11,
     "metadata": {},
     "output_type": "execute_result"
    },
    {
     "data": {
      "image/png": "[encoded data removed]",
      "text/plain": [
       "<Figure size 640x480 with 1 Axes>"
      ]
     },
     "metadata": {},
     "output_type": "display_data"
    }
   ],
   "source": [
    "clean_df.groupby('fit')['category'].value_counts(normalize = True).unstack().transpose().plot.bar()"
   ]
  },
  {
   "cell_type": "code",
   "execution_count": 12,
   "id": "d8b456f8",
   "metadata": {},
   "outputs": [
    {
     "data": {
      "text/plain": [
       "<AxesSubplot: xlabel='bust_letter'>"
      ]
     },
     "execution_count": 12,
     "metadata": {},
     "output_type": "execute_result"
    },
    {
     "data": {
      "image/png": "[encoded data removed]",
      "text/plain": [
       "<Figure size 640x480 with 1 Axes>"
      ]
     },
     "metadata": {},
     "output_type": "display_data"
    }
   ],
   "source": [
    "clean_df.groupby('fit')['bust_letter'].value_counts(normalize = True).unstack().transpose().plot.bar()"
   ]
  },
  {
   "cell_type": "markdown",
   "id": "4332f275",
   "metadata": {},
   "source": [
    "# Predictive Task"
   ]
  },
  {
   "cell_type": "code",
   "execution_count": 13,
   "id": "3091ec72",
   "metadata": {},
   "outputs": [
    {
     "data": {
      "text/plain": [
       "(192544, 16)"
      ]
     },
     "execution_count": 13,
     "metadata": {},
     "output_type": "execute_result"
    }
   ],
   "source": [
    "clean_df.shape"
   ]
  },
  {
   "cell_type": "code",
   "execution_count": 14,
   "id": "d234f81a",
   "metadata": {},
   "outputs": [],
   "source": [
    "## test-train split\n",
    "train = clean_df.iloc[:150000]\n",
    "test = clean_df.iloc[150000:]"
   ]
  },
  {
   "cell_type": "code",
   "execution_count": 15,
   "id": "f80f1299",
   "metadata": {},
   "outputs": [],
   "source": [
    "## evaluation index: accuracy\n",
    "def accuracy(label, predictions):\n",
    "    return np.mean([a==b for a,b in zip(label, predictions)])"
   ]
  },
  {
   "cell_type": "markdown",
   "id": "dc744db0",
   "metadata": {},
   "source": [
    "### Baseline Model: Predict Fit Based On Weight and Height"
   ]
  },
  {
   "cell_type": "code",
   "execution_count": 16,
   "id": "4b20d286",
   "metadata": {},
   "outputs": [],
   "source": [
    "height_info = train.height.describe()\n",
    "weight_info = test.weight.describe()\n",
    "\n",
    "height_25 = height_info['25%']\n",
    "height_75 = height_info['75%']\n",
    "weight_25 = weight_info['25%']\n",
    "weight_75 = weight_info['75%']\n"
   ]
  },
  {
   "cell_type": "code",
   "execution_count": 17,
   "id": "81480618",
   "metadata": {},
   "outputs": [],
   "source": [
    "def baseline_predict(test):\n",
    "    heights = test.height\n",
    "    weights = test.weight\n",
    "    preds = []\n",
    "    for h, w in zip(heights, weights):\n",
    "        if h > height_75 and w > weight_75:\n",
    "            pred = 'small'\n",
    "        elif h < height_25 and w < weight_25:\n",
    "            pred = 'large'\n",
    "        else:\n",
    "            pred = 'fit'\n",
    "        preds.append(pred)\n",
    "    return preds"
   ]
  },
  {
   "cell_type": "code",
   "execution_count": 18,
   "id": "605fb098",
   "metadata": {},
   "outputs": [],
   "source": [
    "baseline_predictions = baseline_predict(test)"
   ]
  },
  {
   "cell_type": "code",
   "execution_count": 19,
   "id": "b78b11ef",
   "metadata": {},
   "outputs": [
    {
     "data": {
      "text/plain": [
       "0.6470477623166604"
      ]
     },
     "execution_count": 19,
     "metadata": {},
     "output_type": "execute_result"
    }
   ],
   "source": [
    "accuracy(clean_df.fit, baseline_predictions)"
   ]
  },
  {
   "cell_type": "code",
   "execution_count": 20,
   "id": "b25e88b4",
   "metadata": {},
   "outputs": [
    {
     "data": {
      "text/plain": [
       "0.738082925911997"
      ]
     },
     "execution_count": 20,
     "metadata": {},
     "output_type": "execute_result"
    }
   ],
   "source": [
    "np.mean([test.fit == 'fit'])"
   ]
  },
  {
   "cell_type": "markdown",
   "id": "cecdb6fd",
   "metadata": {},
   "source": [
    "### Model 2: Logistics Regession Using Quantitative Columns as Features"
   ]
  },
  {
   "cell_type": "code",
   "execution_count": 21,
   "id": "7e890e65",
   "metadata": {},
   "outputs": [],
   "source": [
    "def feature_2(df):\n",
    "    ## impute missing value by mean value of that variable among data of the same category                                      \n",
    "    quantitative_col = ['weight', 'rating', 'height', 'size', 'age', 'bust_num', 'review_date']\n",
    "    X = df[quantitative_col]\n",
    "    X['Year'] = X['review_date'].apply(lambda x: int(x.year))\n",
    "    X['Month'] = X['review_date'].apply(lambda x: int(x.month))\n",
    "    X = X.drop(columns = 'review_date')\n",
    "    X = X.fillna(X.mean())\n",
    "    scaler = StandardScaler()\n",
    "    X = scaler.fit_transform(X)\n",
    "    \n",
    "\n",
    "    return X\n",
    "\n",
    "def label_2(df):\n",
    "    return df['fit']"
   ]
  },
  {
   "cell_type": "code",
   "execution_count": 22,
   "id": "ec73bed8",
   "metadata": {},
   "outputs": [
    {
     "name": "stderr",
     "output_type": "stream",
     "text": [
      "C:\\Users\\willi\\AppData\\Local\\Temp\\ipykernel_26232\\3525404606.py:5: SettingWithCopyWarning: \n",
      "A value is trying to be set on a copy of a slice from a DataFrame.\n",
      "Try using .loc[row_indexer,col_indexer] = value instead\n",
      "\n",
      "See the caveats in the documentation: https://pandas.pydata.org/pandas-docs/stable/user_guide/indexing.html#returning-a-view-versus-a-copy\n",
      "  X['Year'] = X['review_date'].apply(lambda x: int(x.year))\n",
      "C:\\Users\\willi\\AppData\\Local\\Temp\\ipykernel_26232\\3525404606.py:6: SettingWithCopyWarning: \n",
      "A value is trying to be set on a copy of a slice from a DataFrame.\n",
      "Try using .loc[row_indexer,col_indexer] = value instead\n",
      "\n",
      "See the caveats in the documentation: https://pandas.pydata.org/pandas-docs/stable/user_guide/indexing.html#returning-a-view-versus-a-copy\n",
      "  X['Month'] = X['review_date'].apply(lambda x: int(x.month))\n",
      "C:\\Users\\willi\\AppData\\Local\\Temp\\ipykernel_26232\\3525404606.py:5: SettingWithCopyWarning: \n",
      "A value is trying to be set on a copy of a slice from a DataFrame.\n",
      "Try using .loc[row_indexer,col_indexer] = value instead\n",
      "\n",
      "See the caveats in the documentation: https://pandas.pydata.org/pandas-docs/stable/user_guide/indexing.html#returning-a-view-versus-a-copy\n",
      "  X['Year'] = X['review_date'].apply(lambda x: int(x.year))\n",
      "C:\\Users\\willi\\AppData\\Local\\Temp\\ipykernel_26232\\3525404606.py:6: SettingWithCopyWarning: \n",
      "A value is trying to be set on a copy of a slice from a DataFrame.\n",
      "Try using .loc[row_indexer,col_indexer] = value instead\n",
      "\n",
      "See the caveats in the documentation: https://pandas.pydata.org/pandas-docs/stable/user_guide/indexing.html#returning-a-view-versus-a-copy\n",
      "  X['Month'] = X['review_date'].apply(lambda x: int(x.month))\n"
     ]
    }
   ],
   "source": [
    "X_train = feature_2(train)\n",
    "y_train = label_2(train)\n",
    "\n",
    "X_test = feature_2(test)\n",
    "y_test = label_2(test)"
   ]
  },
  {
   "cell_type": "code",
   "execution_count": 23,
   "id": "702a0da7",
   "metadata": {},
   "outputs": [
    {
     "data": {
      "text/plain": [
       "array([[-2.01958332e-02,  6.34183148e-01,  1.01249423e+00, ...,\n",
       "        -1.22060291e-01,  2.34040846e-01, -8.42830285e-01],\n",
       "       [-2.68559859e-01,  6.34183148e-01,  2.59538276e-01, ...,\n",
       "        -1.22060291e-01, -2.01164939e+00, -2.51075597e-01],\n",
       "       [ 1.41178604e-15,  6.34183148e-01, -4.93417674e-01, ...,\n",
       "         0.00000000e+00, -5.14522565e-01,  1.52418847e+00],\n",
       "       ...,\n",
       "       [ 1.41178604e-15,  6.34183148e-01, -4.93417674e-01, ...,\n",
       "        -1.22060291e-01, -2.01164939e+00, -5.46952941e-01],\n",
       "       [ 6.25550634e-01, -7.64953912e-01, -4.93417674e-01, ...,\n",
       "        -1.22060291e-01,  9.82604256e-01, -8.42830285e-01],\n",
       "       [ 6.25550634e-01,  6.34183148e-01,  1.76545018e+00, ...,\n",
       "         0.00000000e+00,  9.82604256e-01,  1.22831112e+00]])"
      ]
     },
     "execution_count": 23,
     "metadata": {},
     "output_type": "execute_result"
    }
   ],
   "source": [
    "X_train"
   ]
  },
  {
   "cell_type": "code",
   "execution_count": 24,
   "id": "7ca7fcc0",
   "metadata": {},
   "outputs": [
    {
     "data": {
      "text/plain": [
       "0.7369781872884543"
      ]
     },
     "execution_count": 24,
     "metadata": {},
     "output_type": "execute_result"
    }
   ],
   "source": [
    "clf2 = LogisticRegression()\n",
    "clf2.fit(X_train, y_train)\n",
    "y_pred = clf2.predict(X_test)\n",
    "accuracy(y_test, y_pred)"
   ]
  },
  {
   "cell_type": "code",
   "execution_count": 25,
   "id": "6a01366a",
   "metadata": {},
   "outputs": [
    {
     "data": {
      "text/plain": [
       "0.9767299736743137"
      ]
     },
     "execution_count": 25,
     "metadata": {},
     "output_type": "execute_result"
    }
   ],
   "source": [
    "(y_pred == 'fit').mean()"
   ]
  },
  {
   "cell_type": "markdown",
   "id": "fe004295",
   "metadata": {},
   "source": [
    "### Model 3: Predict Fit with Categorical Data"
   ]
  },
  {
   "cell_type": "code",
   "execution_count": 26,
   "id": "71d36668",
   "metadata": {},
   "outputs": [
    {
     "data": {
      "text/html": [
       "<div>\n",
       "<style scoped>\n",
       "    .dataframe tbody tr th:only-of-type {\n",
       "        vertical-align: middle;\n",
       "    }\n",
       "\n",
       "    .dataframe tbody tr th {\n",
       "        vertical-align: top;\n",
       "    }\n",
       "\n",
       "    .dataframe thead th {\n",
       "        text-align: right;\n",
       "    }\n",
       "</style>\n",
       "<table border=\"1\" class=\"dataframe\">\n",
       "  <thead>\n",
       "    <tr style=\"text-align: right;\">\n",
       "      <th></th>\n",
       "      <th>fit</th>\n",
       "      <th>user_id</th>\n",
       "      <th>item_id</th>\n",
       "      <th>weight</th>\n",
       "      <th>rating</th>\n",
       "      <th>rented for</th>\n",
       "      <th>review_text</th>\n",
       "      <th>body type</th>\n",
       "      <th>review_summary</th>\n",
       "      <th>category</th>\n",
       "      <th>height</th>\n",
       "      <th>size</th>\n",
       "      <th>age</th>\n",
       "      <th>review_date</th>\n",
       "      <th>bust_num</th>\n",
       "      <th>bust_letter</th>\n",
       "    </tr>\n",
       "  </thead>\n",
       "  <tbody>\n",
       "    <tr>\n",
       "      <th>0</th>\n",
       "      <td>fit</td>\n",
       "      <td>420272</td>\n",
       "      <td>2260466</td>\n",
       "      <td>137.0</td>\n",
       "      <td>10.0</td>\n",
       "      <td>vacation</td>\n",
       "      <td>An adorable romper! Belt and zipper were a lit...</td>\n",
       "      <td>hourglass</td>\n",
       "      <td>So many compliments!</td>\n",
       "      <td>romper</td>\n",
       "      <td>172.72</td>\n",
       "      <td>14</td>\n",
       "      <td>28.0</td>\n",
       "      <td>2016-04-20</td>\n",
       "      <td>34.0</td>\n",
       "      <td>d</td>\n",
       "    </tr>\n",
       "    <tr>\n",
       "      <th>1</th>\n",
       "      <td>fit</td>\n",
       "      <td>273551</td>\n",
       "      <td>153475</td>\n",
       "      <td>132.0</td>\n",
       "      <td>10.0</td>\n",
       "      <td>other</td>\n",
       "      <td>I rented this dress for a photo shoot. The the...</td>\n",
       "      <td>straight &amp; narrow</td>\n",
       "      <td>I felt so glamourous!!!</td>\n",
       "      <td>gown</td>\n",
       "      <td>167.64</td>\n",
       "      <td>12</td>\n",
       "      <td>36.0</td>\n",
       "      <td>2013-06-18</td>\n",
       "      <td>34.0</td>\n",
       "      <td>b</td>\n",
       "    </tr>\n",
       "    <tr>\n",
       "      <th>2</th>\n",
       "      <td>fit</td>\n",
       "      <td>360448</td>\n",
       "      <td>1063761</td>\n",
       "      <td>NaN</td>\n",
       "      <td>10.0</td>\n",
       "      <td>party</td>\n",
       "      <td>This hugged in all the right places! It was a ...</td>\n",
       "      <td>NaN</td>\n",
       "      <td>It was a great time to celebrate the (almost) ...</td>\n",
       "      <td>sheath</td>\n",
       "      <td>162.56</td>\n",
       "      <td>4</td>\n",
       "      <td>116.0</td>\n",
       "      <td>2015-12-14</td>\n",
       "      <td>NaN</td>\n",
       "      <td>NaN</td>\n",
       "    </tr>\n",
       "    <tr>\n",
       "      <th>3</th>\n",
       "      <td>fit</td>\n",
       "      <td>909926</td>\n",
       "      <td>126335</td>\n",
       "      <td>135.0</td>\n",
       "      <td>8.0</td>\n",
       "      <td>formal affair</td>\n",
       "      <td>I rented this for my company's black tie award...</td>\n",
       "      <td>pear</td>\n",
       "      <td>Dress arrived on time and in perfect condition.</td>\n",
       "      <td>dress</td>\n",
       "      <td>165.10</td>\n",
       "      <td>8</td>\n",
       "      <td>34.0</td>\n",
       "      <td>2014-02-12</td>\n",
       "      <td>34.0</td>\n",
       "      <td>c</td>\n",
       "    </tr>\n",
       "    <tr>\n",
       "      <th>4</th>\n",
       "      <td>fit</td>\n",
       "      <td>151944</td>\n",
       "      <td>616682</td>\n",
       "      <td>145.0</td>\n",
       "      <td>10.0</td>\n",
       "      <td>wedding</td>\n",
       "      <td>I have always been petite in my upper body and...</td>\n",
       "      <td>athletic</td>\n",
       "      <td>Was in love with this dress !!!</td>\n",
       "      <td>gown</td>\n",
       "      <td>175.26</td>\n",
       "      <td>12</td>\n",
       "      <td>27.0</td>\n",
       "      <td>2016-09-26</td>\n",
       "      <td>34.0</td>\n",
       "      <td>b</td>\n",
       "    </tr>\n",
       "    <tr>\n",
       "      <th>...</th>\n",
       "      <td>...</td>\n",
       "      <td>...</td>\n",
       "      <td>...</td>\n",
       "      <td>...</td>\n",
       "      <td>...</td>\n",
       "      <td>...</td>\n",
       "      <td>...</td>\n",
       "      <td>...</td>\n",
       "      <td>...</td>\n",
       "      <td>...</td>\n",
       "      <td>...</td>\n",
       "      <td>...</td>\n",
       "      <td>...</td>\n",
       "      <td>...</td>\n",
       "      <td>...</td>\n",
       "      <td>...</td>\n",
       "    </tr>\n",
       "    <tr>\n",
       "      <th>192539</th>\n",
       "      <td>fit</td>\n",
       "      <td>66386</td>\n",
       "      <td>2252812</td>\n",
       "      <td>140.0</td>\n",
       "      <td>10.0</td>\n",
       "      <td>work</td>\n",
       "      <td>Fit like a glove!</td>\n",
       "      <td>hourglass</td>\n",
       "      <td>LOVE IT!!! First Item Im thinking of buying!</td>\n",
       "      <td>jumpsuit</td>\n",
       "      <td>175.26</td>\n",
       "      <td>8</td>\n",
       "      <td>42.0</td>\n",
       "      <td>2016-05-18</td>\n",
       "      <td>34.0</td>\n",
       "      <td>d</td>\n",
       "    </tr>\n",
       "    <tr>\n",
       "      <th>192540</th>\n",
       "      <td>fit</td>\n",
       "      <td>118398</td>\n",
       "      <td>682043</td>\n",
       "      <td>100.0</td>\n",
       "      <td>10.0</td>\n",
       "      <td>work</td>\n",
       "      <td>The pattern contrast on this dress is really s...</td>\n",
       "      <td>petite</td>\n",
       "      <td>LOVE it!</td>\n",
       "      <td>dress</td>\n",
       "      <td>154.94</td>\n",
       "      <td>4</td>\n",
       "      <td>29.0</td>\n",
       "      <td>2016-09-30</td>\n",
       "      <td>32.0</td>\n",
       "      <td>c</td>\n",
       "    </tr>\n",
       "    <tr>\n",
       "      <th>192541</th>\n",
       "      <td>fit</td>\n",
       "      <td>47002</td>\n",
       "      <td>683251</td>\n",
       "      <td>135.0</td>\n",
       "      <td>6.0</td>\n",
       "      <td>everyday</td>\n",
       "      <td>Like the other DVF wraps, the fit on this is f...</td>\n",
       "      <td>straight &amp; narrow</td>\n",
       "      <td>Loud patterning, flattering fit</td>\n",
       "      <td>dress</td>\n",
       "      <td>172.72</td>\n",
       "      <td>8</td>\n",
       "      <td>31.0</td>\n",
       "      <td>2016-03-04</td>\n",
       "      <td>36.0</td>\n",
       "      <td>a</td>\n",
       "    </tr>\n",
       "    <tr>\n",
       "      <th>192542</th>\n",
       "      <td>fit</td>\n",
       "      <td>961120</td>\n",
       "      <td>126335</td>\n",
       "      <td>165.0</td>\n",
       "      <td>10.0</td>\n",
       "      <td>wedding</td>\n",
       "      <td>This dress was PERFECTION.  it looked incredib...</td>\n",
       "      <td>pear</td>\n",
       "      <td>loved this dress it was comfortable and photog...</td>\n",
       "      <td>dress</td>\n",
       "      <td>167.64</td>\n",
       "      <td>16</td>\n",
       "      <td>31.0</td>\n",
       "      <td>2015-11-25</td>\n",
       "      <td>36.0</td>\n",
       "      <td>c</td>\n",
       "    </tr>\n",
       "    <tr>\n",
       "      <th>192543</th>\n",
       "      <td>fit</td>\n",
       "      <td>123612</td>\n",
       "      <td>127865</td>\n",
       "      <td>155.0</td>\n",
       "      <td>10.0</td>\n",
       "      <td>wedding</td>\n",
       "      <td>This dress was wonderful! I had originally pla...</td>\n",
       "      <td>athletic</td>\n",
       "      <td>I wore this to a beautiful black tie optional ...</td>\n",
       "      <td>gown</td>\n",
       "      <td>167.64</td>\n",
       "      <td>16</td>\n",
       "      <td>30.0</td>\n",
       "      <td>2017-08-29</td>\n",
       "      <td>36.0</td>\n",
       "      <td>b</td>\n",
       "    </tr>\n",
       "  </tbody>\n",
       "</table>\n",
       "<p>192544 rows × 16 columns</p>\n",
       "</div>"
      ],
      "text/plain": [
       "        fit user_id  item_id  weight  rating     rented for  \\\n",
       "0       fit  420272  2260466   137.0    10.0       vacation   \n",
       "1       fit  273551   153475   132.0    10.0          other   \n",
       "2       fit  360448  1063761     NaN    10.0          party   \n",
       "3       fit  909926   126335   135.0     8.0  formal affair   \n",
       "4       fit  151944   616682   145.0    10.0        wedding   \n",
       "...     ...     ...      ...     ...     ...            ...   \n",
       "192539  fit   66386  2252812   140.0    10.0           work   \n",
       "192540  fit  118398   682043   100.0    10.0           work   \n",
       "192541  fit   47002   683251   135.0     6.0       everyday   \n",
       "192542  fit  961120   126335   165.0    10.0        wedding   \n",
       "192543  fit  123612   127865   155.0    10.0        wedding   \n",
       "\n",
       "                                              review_text          body type  \\\n",
       "0       An adorable romper! Belt and zipper were a lit...          hourglass   \n",
       "1       I rented this dress for a photo shoot. The the...  straight & narrow   \n",
       "2       This hugged in all the right places! It was a ...                NaN   \n",
       "3       I rented this for my company's black tie award...               pear   \n",
       "4       I have always been petite in my upper body and...           athletic   \n",
       "...                                                   ...                ...   \n",
       "192539                                  Fit like a glove!          hourglass   \n",
       "192540  The pattern contrast on this dress is really s...             petite   \n",
       "192541  Like the other DVF wraps, the fit on this is f...  straight & narrow   \n",
       "192542  This dress was PERFECTION.  it looked incredib...               pear   \n",
       "192543  This dress was wonderful! I had originally pla...           athletic   \n",
       "\n",
       "                                           review_summary  category  height  \\\n",
       "0                                    So many compliments!    romper  172.72   \n",
       "1                                 I felt so glamourous!!!      gown  167.64   \n",
       "2       It was a great time to celebrate the (almost) ...    sheath  162.56   \n",
       "3        Dress arrived on time and in perfect condition.      dress  165.10   \n",
       "4                         Was in love with this dress !!!      gown  175.26   \n",
       "...                                                   ...       ...     ...   \n",
       "192539       LOVE IT!!! First Item Im thinking of buying!  jumpsuit  175.26   \n",
       "192540                                           LOVE it!     dress  154.94   \n",
       "192541                    Loud patterning, flattering fit     dress  172.72   \n",
       "192542  loved this dress it was comfortable and photog...     dress  167.64   \n",
       "192543  I wore this to a beautiful black tie optional ...      gown  167.64   \n",
       "\n",
       "        size    age review_date  bust_num bust_letter  \n",
       "0         14   28.0  2016-04-20      34.0           d  \n",
       "1         12   36.0  2013-06-18      34.0           b  \n",
       "2          4  116.0  2015-12-14       NaN         NaN  \n",
       "3          8   34.0  2014-02-12      34.0           c  \n",
       "4         12   27.0  2016-09-26      34.0           b  \n",
       "...      ...    ...         ...       ...         ...  \n",
       "192539     8   42.0  2016-05-18      34.0           d  \n",
       "192540     4   29.0  2016-09-30      32.0           c  \n",
       "192541     8   31.0  2016-03-04      36.0           a  \n",
       "192542    16   31.0  2015-11-25      36.0           c  \n",
       "192543    16   30.0  2017-08-29      36.0           b  \n",
       "\n",
       "[192544 rows x 16 columns]"
      ]
     },
     "execution_count": 26,
     "metadata": {},
     "output_type": "execute_result"
    }
   ],
   "source": [
    "clean_df"
   ]
  },
  {
   "cell_type": "code",
   "execution_count": 27,
   "id": "81779cf9",
   "metadata": {},
   "outputs": [],
   "source": [
    "def feature_3(df, ohe = None):\n",
    "    cat_col = ['rented for', 'body type', 'category', 'bust_letter']\n",
    "    cat_df = df[cat_col]\n",
    "    if ohe == None:\n",
    "        ohe = OneHotEncoder().fit(cat_df)\n",
    "    X = ohe.transform(cat_df)\n",
    "    return X, ohe"
   ]
  },
  {
   "cell_type": "code",
   "execution_count": 28,
   "id": "d4c920e7",
   "metadata": {},
   "outputs": [],
   "source": [
    "X_train, ohe = feature_3(train)\n",
    "y_train = label_2(train)\n",
    "\n",
    "X_test, ohe = feature_3(test, ohe)\n",
    "y_test = label_2(test)"
   ]
  },
  {
   "cell_type": "code",
   "execution_count": 29,
   "id": "ffd7e202",
   "metadata": {},
   "outputs": [
    {
     "name": "stderr",
     "output_type": "stream",
     "text": [
      "C:\\Users\\willi\\AppData\\Roaming\\Python\\Python311\\site-packages\\sklearn\\linear_model\\_logistic.py:444: ConvergenceWarning: lbfgs failed to converge (status=1):\n",
      "STOP: TOTAL NO. of ITERATIONS REACHED LIMIT.\n",
      "\n",
      "Increase the number of iterations (max_iter) or scale the data as shown in:\n",
      "    https://scikit-learn.org/stable/modules/preprocessing.html\n",
      "Please also refer to the documentation for alternative solver options:\n",
      "    https://scikit-learn.org/stable/modules/linear_model.html#logistic-regression\n",
      "  n_iter_i = _check_optimize_result(\n"
     ]
    },
    {
     "data": {
      "text/plain": [
       "0.738153441143287"
      ]
     },
     "execution_count": 29,
     "metadata": {},
     "output_type": "execute_result"
    }
   ],
   "source": [
    "clf2 = LogisticRegression()\n",
    "clf2.fit(X_train, y_train)\n",
    "y_pred = clf2.predict(X_test)\n",
    "accuracy(y_test, y_pred)"
   ]
  },
  {
   "cell_type": "code",
   "execution_count": 30,
   "id": "2a26188d",
   "metadata": {},
   "outputs": [
    {
     "data": {
      "text/plain": [
       "0.9997884543061302"
      ]
     },
     "execution_count": 30,
     "metadata": {},
     "output_type": "execute_result"
    }
   ],
   "source": [
    "np.mean([y_pred == 'fit'])\n",
    "#(y_pred == 'large').sum()\n",
    "#(y_pred == 'small').sum()"
   ]
  },
  {
   "cell_type": "markdown",
   "id": "cc64c06c",
   "metadata": {},
   "source": [
    "### Model 4: Predict Fit with Review Text"
   ]
  },
  {
   "cell_type": "code",
   "execution_count": 31,
   "id": "03b76f21",
   "metadata": {},
   "outputs": [
    {
     "data": {
      "text/plain": [
       "0                                      So many compliments!\n",
       "1                                   I felt so glamourous!!!\n",
       "2         It was a great time to celebrate the (almost) ...\n",
       "3          Dress arrived on time and in perfect condition. \n",
       "4                           Was in love with this dress !!!\n",
       "                                ...                        \n",
       "149995    The low back added just the right note of sexy...\n",
       "149996                                      Very cute dress\n",
       "149997                  Gorgeous black dress.  Fits well.  \n",
       "149998                                         Work to play\n",
       "149999    hits in all the right places!  Super flatterin...\n",
       "Name: review_summary, Length: 150000, dtype: object"
      ]
     },
     "execution_count": 31,
     "metadata": {},
     "output_type": "execute_result"
    }
   ],
   "source": [
    "train['review_summary']"
   ]
  },
  {
   "cell_type": "code",
   "execution_count": 32,
   "id": "b2a11e9d",
   "metadata": {},
   "outputs": [],
   "source": [
    "def mostCommonUnigrams(train_data):\n",
    "    wordCount = defaultdict(int)\n",
    "    punctuation = set(string.punctuation)\n",
    "    for d in train_data:\n",
    "        r = ''.join([c for c in d.lower() if not c in punctuation])\n",
    "        for w in r.split():\n",
    "            wordCount[w] += 1\n",
    "    counts = [(wordCount[w], w) for w in wordCount]\n",
    "    counts.sort()\n",
    "    counts.reverse()\n",
    "    return counts[:5000]\n",
    "\n",
    "def mostCommonBigrams(train_data):\n",
    "    wordCount = defaultdict(int)\n",
    "    punctuation = set(string.punctuation)\n",
    "    for d in train_data:\n",
    "        r = ''.join([c for c in d.lower() if not c in punctuation])\n",
    "        unigrams = r.split()\n",
    "        bigrams = list(zip(unigrams[:-1], unigrams[1:]))\n",
    "        bigrams = [' '.join(x) for x in bigrams]\n",
    "        for w in bigrams:\n",
    "            wordCount[w] += 1\n",
    "    counts = [(wordCount[w], w) for w in wordCount]\n",
    "    counts.sort()\n",
    "    counts.reverse()\n",
    "    return counts[:5000]\n",
    "\n",
    "def mostCommonBoth(train_data):\n",
    "    unigrams = mostCommonUnigrams(train_data)\n",
    "    bigrams = mostCommonBigrams(train_data)\n",
    "    both = unigrams + bigrams\n",
    "    both.sort(key=lambda x: x[0])\n",
    "    both.reverse()\n",
    "    return both[:10000]"
   ]
  },
  {
   "cell_type": "code",
   "execution_count": 33,
   "id": "48f220db",
   "metadata": {},
   "outputs": [],
   "source": [
    "mostCommonUnigrams(train['review_summary'])\n",
    "words = mostCommonBoth(train['review_summary'])"
   ]
  },
  {
   "cell_type": "code",
   "execution_count": 34,
   "id": "b3387f89",
   "metadata": {},
   "outputs": [],
   "source": [
    "def feature_4(datum, words):\n",
    "    punctuation = set(string.punctuation)\n",
    "    words = [w[1] for w in words]\n",
    "    wordId = dict(zip(words, range(len(words))))\n",
    "    feat = [0]*len(words)\n",
    "    r = ''.join([c for c in datum.lower() if not c in punctuation])\n",
    "    ws = r.split()\n",
    "    ws2 = [' '.join(x) for x in list(zip(ws[:-1],ws[1:]))]\n",
    "    for w in ws + ws2:\n",
    "        if w in words:\n",
    "            feat[wordId[w]] += 1\n",
    "    feat.append(1) #offset\n",
    "    return feat"
   ]
  },
  {
   "cell_type": "code",
   "execution_count": 35,
   "id": "0132f9bd",
   "metadata": {},
   "outputs": [],
   "source": [
    "X_train = [feature_4(d, words) for d in train['review_summary']]\n",
    "y_train = label_2(train)\n",
    "\n",
    "X_test =  [feature_4(d, words) for d in test['review_summary']]\n",
    "y_test = label_2(test)"
   ]
  },
  {
   "cell_type": "code",
   "execution_count": 36,
   "id": "7d7e2636",
   "metadata": {},
   "outputs": [
    {
     "name": "stderr",
     "output_type": "stream",
     "text": [
      "C:\\Users\\willi\\AppData\\Roaming\\Python\\Python311\\site-packages\\sklearn\\linear_model\\_logistic.py:444: ConvergenceWarning: lbfgs failed to converge (status=1):\n",
      "STOP: TOTAL NO. of ITERATIONS REACHED LIMIT.\n",
      "\n",
      "Increase the number of iterations (max_iter) or scale the data as shown in:\n",
      "    https://scikit-learn.org/stable/modules/preprocessing.html\n",
      "Please also refer to the documentation for alternative solver options:\n",
      "    https://scikit-learn.org/stable/modules/linear_model.html#logistic-regression\n",
      "  n_iter_i = _check_optimize_result(\n"
     ]
    },
    {
     "data": {
      "text/plain": [
       "0.7529616397141783"
      ]
     },
     "execution_count": 36,
     "metadata": {},
     "output_type": "execute_result"
    }
   ],
   "source": [
    "clf = LogisticRegression(fit_intercept=False)\n",
    "clf.fit(X_train, y_train)\n",
    "y_preds = clf.predict(X_test)\n",
    "accuracy(y_test, y_preds)"
   ]
  },
  {
   "cell_type": "code",
   "execution_count": 37,
   "id": "df7874f1",
   "metadata": {},
   "outputs": [
    {
     "data": {
      "text/plain": [
       "0.9454447160586686"
      ]
     },
     "execution_count": 37,
     "metadata": {},
     "output_type": "execute_result"
    }
   ],
   "source": [
    "np.mean([y_preds == 'fit'])"
   ]
  },
  {
   "cell_type": "markdown",
   "id": "48f1477f",
   "metadata": {},
   "source": [
    "Review Text"
   ]
  },
  {
   "cell_type": "code",
   "execution_count": 38,
   "id": "99ce7532",
   "metadata": {},
   "outputs": [],
   "source": [
    "mostCommonUnigrams(train['review_text'])\n",
    "words = mostCommonBoth(train['review_text'])"
   ]
  },
  {
   "cell_type": "code",
   "execution_count": 39,
   "id": "49354cab",
   "metadata": {},
   "outputs": [],
   "source": [
    "X_train = [feature_4(d, words) for d in train['review_text']]\n",
    "y_train = label_2(train)\n",
    "\n",
    "X_test =  [feature_4(d, words) for d in test['review_text']]\n",
    "y_test = label_2(test)"
   ]
  },
  {
   "cell_type": "code",
   "execution_count": 40,
   "id": "d7b82583",
   "metadata": {},
   "outputs": [
    {
     "name": "stderr",
     "output_type": "stream",
     "text": [
      "C:\\Users\\willi\\AppData\\Roaming\\Python\\Python311\\site-packages\\sklearn\\linear_model\\_logistic.py:444: ConvergenceWarning: lbfgs failed to converge (status=1):\n",
      "STOP: TOTAL NO. of ITERATIONS REACHED LIMIT.\n",
      "\n",
      "Increase the number of iterations (max_iter) or scale the data as shown in:\n",
      "    https://scikit-learn.org/stable/modules/preprocessing.html\n",
      "Please also refer to the documentation for alternative solver options:\n",
      "    https://scikit-learn.org/stable/modules/linear_model.html#logistic-regression\n",
      "  n_iter_i = _check_optimize_result(\n"
     ]
    },
    {
     "data": {
      "text/plain": [
       "0.8150150432493418"
      ]
     },
     "execution_count": 40,
     "metadata": {},
     "output_type": "execute_result"
    }
   ],
   "source": [
    "clf = LogisticRegression(fit_intercept=False)\n",
    "clf.fit(X_train, y_train)\n",
    "y_preds = clf.predict(X_test)\n",
    "accuracy(y_test, y_preds)"
   ]
  },
  {
   "cell_type": "markdown",
   "id": "c8b098fb",
   "metadata": {},
   "source": [
    "## Include all features in one pipeline"
   ]
  },
  {
   "cell_type": "code",
   "execution_count": 41,
   "id": "f4ac85c0",
   "metadata": {},
   "outputs": [],
   "source": [
    "def feature_all(df, ohe = None):\n",
    "    num_df = feature_2(df)\n",
    "    num_feat = scipy.sparse.csr_matrix(num_df)\n",
    "    \n",
    "    cat_feat, ohe = feature_3(df, ohe)\n",
    "    \n",
    "    words = mostCommonBoth(train['review_text'])\n",
    "    text_feat = [feature_4(d, words) for d in df['review_text']]\n",
    "    text_feat = scipy.sparse.csr_matrix(text_feat)\n",
    "    \n",
    "    return scipy.sparse.hstack((num_feat, cat_feat, text_feat)), ohe\n"
   ]
  },
  {
   "cell_type": "code",
   "execution_count": 42,
   "id": "f14ef2c7",
   "metadata": {},
   "outputs": [
    {
     "name": "stderr",
     "output_type": "stream",
     "text": [
      "C:\\Users\\willi\\AppData\\Local\\Temp\\ipykernel_26232\\3525404606.py:5: SettingWithCopyWarning: \n",
      "A value is trying to be set on a copy of a slice from a DataFrame.\n",
      "Try using .loc[row_indexer,col_indexer] = value instead\n",
      "\n",
      "See the caveats in the documentation: https://pandas.pydata.org/pandas-docs/stable/user_guide/indexing.html#returning-a-view-versus-a-copy\n",
      "  X['Year'] = X['review_date'].apply(lambda x: int(x.year))\n",
      "C:\\Users\\willi\\AppData\\Local\\Temp\\ipykernel_26232\\3525404606.py:6: SettingWithCopyWarning: \n",
      "A value is trying to be set on a copy of a slice from a DataFrame.\n",
      "Try using .loc[row_indexer,col_indexer] = value instead\n",
      "\n",
      "See the caveats in the documentation: https://pandas.pydata.org/pandas-docs/stable/user_guide/indexing.html#returning-a-view-versus-a-copy\n",
      "  X['Month'] = X['review_date'].apply(lambda x: int(x.month))\n",
      "C:\\Users\\willi\\AppData\\Local\\Temp\\ipykernel_26232\\3525404606.py:5: SettingWithCopyWarning: \n",
      "A value is trying to be set on a copy of a slice from a DataFrame.\n",
      "Try using .loc[row_indexer,col_indexer] = value instead\n",
      "\n",
      "See the caveats in the documentation: https://pandas.pydata.org/pandas-docs/stable/user_guide/indexing.html#returning-a-view-versus-a-copy\n",
      "  X['Year'] = X['review_date'].apply(lambda x: int(x.year))\n",
      "C:\\Users\\willi\\AppData\\Local\\Temp\\ipykernel_26232\\3525404606.py:6: SettingWithCopyWarning: \n",
      "A value is trying to be set on a copy of a slice from a DataFrame.\n",
      "Try using .loc[row_indexer,col_indexer] = value instead\n",
      "\n",
      "See the caveats in the documentation: https://pandas.pydata.org/pandas-docs/stable/user_guide/indexing.html#returning-a-view-versus-a-copy\n",
      "  X['Month'] = X['review_date'].apply(lambda x: int(x.month))\n"
     ]
    }
   ],
   "source": [
    "X_train, ohe = feature_all(train)\n",
    "y_train = label_2(train)\n",
    "\n",
    "X_test = feature_all(test, ohe)[0]\n",
    "y_test = label_2(test)"
   ]
  },
  {
   "cell_type": "code",
   "execution_count": 43,
   "id": "e2576548",
   "metadata": {},
   "outputs": [
    {
     "name": "stderr",
     "output_type": "stream",
     "text": [
      "C:\\Users\\willi\\AppData\\Roaming\\Python\\Python311\\site-packages\\sklearn\\linear_model\\_logistic.py:444: ConvergenceWarning: lbfgs failed to converge (status=1):\n",
      "STOP: TOTAL NO. of ITERATIONS REACHED LIMIT.\n",
      "\n",
      "Increase the number of iterations (max_iter) or scale the data as shown in:\n",
      "    https://scikit-learn.org/stable/modules/preprocessing.html\n",
      "Please also refer to the documentation for alternative solver options:\n",
      "    https://scikit-learn.org/stable/modules/linear_model.html#logistic-regression\n",
      "  n_iter_i = _check_optimize_result(\n"
     ]
    },
    {
     "name": "stdout",
     "output_type": "stream",
     "text": [
      "0.01 0.8230772846934938\n"
     ]
    },
    {
     "name": "stderr",
     "output_type": "stream",
     "text": [
      "C:\\Users\\willi\\AppData\\Roaming\\Python\\Python311\\site-packages\\sklearn\\linear_model\\_logistic.py:444: ConvergenceWarning: lbfgs failed to converge (status=1):\n",
      "STOP: TOTAL NO. of ITERATIONS REACHED LIMIT.\n",
      "\n",
      "Increase the number of iterations (max_iter) or scale the data as shown in:\n",
      "    https://scikit-learn.org/stable/modules/preprocessing.html\n",
      "Please also refer to the documentation for alternative solver options:\n",
      "    https://scikit-learn.org/stable/modules/linear_model.html#logistic-regression\n",
      "  n_iter_i = _check_optimize_result(\n"
     ]
    },
    {
     "name": "stdout",
     "output_type": "stream",
     "text": [
      "0.1 0.8223016171493043\n"
     ]
    },
    {
     "name": "stderr",
     "output_type": "stream",
     "text": [
      "C:\\Users\\willi\\AppData\\Roaming\\Python\\Python311\\site-packages\\sklearn\\linear_model\\_logistic.py:444: ConvergenceWarning: lbfgs failed to converge (status=1):\n",
      "STOP: TOTAL NO. of ITERATIONS REACHED LIMIT.\n",
      "\n",
      "Increase the number of iterations (max_iter) or scale the data as shown in:\n",
      "    https://scikit-learn.org/stable/modules/preprocessing.html\n",
      "Please also refer to the documentation for alternative solver options:\n",
      "    https://scikit-learn.org/stable/modules/linear_model.html#logistic-regression\n",
      "  n_iter_i = _check_optimize_result(\n"
     ]
    },
    {
     "name": "stdout",
     "output_type": "stream",
     "text": [
      "1 0.8195280180518992\n"
     ]
    },
    {
     "name": "stderr",
     "output_type": "stream",
     "text": [
      "C:\\Users\\willi\\AppData\\Roaming\\Python\\Python311\\site-packages\\sklearn\\linear_model\\_logistic.py:444: ConvergenceWarning: lbfgs failed to converge (status=1):\n",
      "STOP: TOTAL NO. of ITERATIONS REACHED LIMIT.\n",
      "\n",
      "Increase the number of iterations (max_iter) or scale the data as shown in:\n",
      "    https://scikit-learn.org/stable/modules/preprocessing.html\n",
      "Please also refer to the documentation for alternative solver options:\n",
      "    https://scikit-learn.org/stable/modules/linear_model.html#logistic-regression\n",
      "  n_iter_i = _check_optimize_result(\n"
     ]
    },
    {
     "name": "stdout",
     "output_type": "stream",
     "text": [
      "10 0.8201391500564121\n",
      "100 0.8203977059044754\n"
     ]
    },
    {
     "name": "stderr",
     "output_type": "stream",
     "text": [
      "C:\\Users\\willi\\AppData\\Roaming\\Python\\Python311\\site-packages\\sklearn\\linear_model\\_logistic.py:444: ConvergenceWarning: lbfgs failed to converge (status=1):\n",
      "STOP: TOTAL NO. of ITERATIONS REACHED LIMIT.\n",
      "\n",
      "Increase the number of iterations (max_iter) or scale the data as shown in:\n",
      "    https://scikit-learn.org/stable/modules/preprocessing.html\n",
      "Please also refer to the documentation for alternative solver options:\n",
      "    https://scikit-learn.org/stable/modules/linear_model.html#logistic-regression\n",
      "  n_iter_i = _check_optimize_result(\n"
     ]
    }
   ],
   "source": [
    "for c in [0.01, 0.1, 1, 10, 100]:\n",
    "    clf2 = LogisticRegression(C = c, fit_intercept=False)\n",
    "    clf2.fit(X_train, y_train)\n",
    "    y_pred = clf2.predict(X_test)\n",
    "    print(c, accuracy(y_test, y_pred))"
   ]
  },
  {
   "cell_type": "code",
   "execution_count": null,
   "id": "21ccee8c",
   "metadata": {},
   "outputs": [],
   "source": []
  },
  {
   "cell_type": "code",
   "execution_count": null,
   "id": "e10125b6",
   "metadata": {},
   "outputs": [],
   "source": []
  },
  {
   "cell_type": "code",
   "execution_count": null,
   "id": "be940596",
   "metadata": {},
   "outputs": [],
   "source": []
  },
  {
   "cell_type": "code",
   "execution_count": null,
   "id": "12da2ef9",
   "metadata": {},
   "outputs": [],
   "source": []
  },
  {
   "cell_type": "code",
   "execution_count": null,
   "id": "49e58f17",
   "metadata": {},
   "outputs": [],
   "source": []
  },
  {
   "cell_type": "code",
   "execution_count": null,
   "id": "be3df493",
   "metadata": {},
   "outputs": [],
   "source": []
  },
  {
   "cell_type": "code",
   "execution_count": null,
   "id": "a8382549",
   "metadata": {},
   "outputs": [],
   "source": []
  }
 ],
 "metadata": {
  "kernelspec": {
   "display_name": "Python 3 (ipykernel)",
   "language": "python",
   "name": "python3"
  },
  "language_info": {
   "codemirror_mode": {
    "name": "ipython",
    "version": 3
   },
   "file_extension": ".py",
   "mimetype": "text/x-python",
   "name": "python",
   "nbconvert_exporter": "python",
   "pygments_lexer": "ipython3",
   "version": "3.11.0"
  }
 },
 "nbformat": 4,
 "nbformat_minor": 5
}
